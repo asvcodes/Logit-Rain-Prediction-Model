{
 "cells": [
  {
   "cell_type": "markdown",
   "id": "a9ac060c",
   "metadata": {},
   "source": [
    "###### "
   ]
  },
  {
   "cell_type": "markdown",
   "id": "723b428e",
   "metadata": {},
   "source": [
    "<h1 style=\"text-align:center;\">Rain Predictor</h1>\n"
   ]
  },
  {
   "cell_type": "markdown",
   "id": "daa782fe",
   "metadata": {},
   "source": [
    "<h3 style=\"text-align:center;\">Logistic Regression Model</h3>"
   ]
  },
  {
   "cell_type": "markdown",
   "id": "3fa038c0",
   "metadata": {},
   "source": [
    "<h3 style=\"text-align:center;\">By Adarsh S. Vimal</h3>"
   ]
  },
  {
   "cell_type": "markdown",
   "id": "18ac05b6",
   "metadata": {},
   "source": [
    "##### "
   ]
  },
  {
   "cell_type": "markdown",
   "id": "6a070b52",
   "metadata": {},
   "source": [
    "###### "
   ]
  },
  {
   "cell_type": "markdown",
   "id": "107d3707",
   "metadata": {},
   "source": [
    "### Linear Regression for Solving Regression Problems\n",
    "\n",
    "Linear regression is a commonly used technique for solving regression problems. In a linear regression model, the target is modeled as a linear combination (or weighted sum) of input features. The predictions from the model are evaluated using a loss function like the Root Mean Squared Error (RMSE).\n",
    "\n",
    "\n",
    "Visual Summary:\n",
    "\n",
    "<img src=\"https://i.imgur.com/iTM2s5k.png\" width=\"480\">"
   ]
  },
  {
   "cell_type": "markdown",
   "id": "7da0bb66",
   "metadata": {},
   "source": [
    "#### "
   ]
  },
  {
   "cell_type": "markdown",
   "id": "800e44ce",
   "metadata": {},
   "source": [
    "#### "
   ]
  },
  {
   "cell_type": "markdown",
   "id": "7eb2653b",
   "metadata": {},
   "source": [
    "## Logistic Regression\n",
    "Logistic regression is a commonly used technique for solving binary classification problems. In a logistic regression model:\n",
    "> 1. We take linear combination (or weighted sum of the input features)\n",
    "> 2. We apply the sigmoid function to the result to obtain a number between 0 and 1\n",
    "> 3. This number represents the probability of the input being classified as \"Yes\"\n",
    "> 4. Instead of RMSE, the Cross Entropy Loss function is used to evaluate the results\n",
    "\n",
    "\n",
    "Visual Summary:\n",
    "\n",
    "\n",
    "<img src=\"https://i.imgur.com/YMaMo5D.png\" width=\"480\">\n",
    "\n",
    "\n",
    "The sigmoid function applied to the linear combination of inputs has the following formula:\n",
    "\n",
    "\n",
    "<img src=\"https://i.imgur.com/sAVwvZP.png\" width=\"400\">\n",
    "\n",
    "\n",
    "The output of the sigmoid function is called a logistic, hence the name _logistic regression_. In short, we have to evaluate the Weights and the Biases by optimising (minimising) the loss function.\n"
   ]
  },
  {
   "cell_type": "markdown",
   "id": "8bf69620",
   "metadata": {},
   "source": [
    "#### "
   ]
  },
  {
   "cell_type": "markdown",
   "id": "01406f8c",
   "metadata": {},
   "source": [
    "#### Importing Libraries"
   ]
  },
  {
   "cell_type": "code",
   "execution_count": 1,
   "id": "edcf39ac",
   "metadata": {},
   "outputs": [],
   "source": [
    "import numpy as np\n",
    "import pandas as pd\n",
    "from sklearn.model_selection import train_test_split\n",
    "from sklearn.preprocessing import StandardScaler\n",
    "from sklearn.linear_model import LogisticRegression\n",
    "from sklearn.metrics import confusion_matrix\n",
    "import seaborn as sns\n",
    "import matplotlib.pyplot as plt\n",
    "%matplotlib inline"
   ]
  },
  {
   "cell_type": "markdown",
   "id": "513f638e",
   "metadata": {},
   "source": [
    "#### "
   ]
  },
  {
   "cell_type": "markdown",
   "id": "6884ac93",
   "metadata": {},
   "source": [
    "#### Reading, Exploring and Cleaning the Data"
   ]
  },
  {
   "cell_type": "code",
   "execution_count": 2,
   "id": "6f49471a",
   "metadata": {},
   "outputs": [
    {
     "data": {
      "text/plain": [
       "Date                 0\n",
       "Location             0\n",
       "MinTemp           1485\n",
       "MaxTemp           1261\n",
       "Rainfall          3261\n",
       "Evaporation      62790\n",
       "Sunshine         69835\n",
       "WindGustDir      10326\n",
       "WindGustSpeed    10263\n",
       "WindDir9am       10566\n",
       "WindDir3pm        4228\n",
       "WindSpeed9am      1767\n",
       "WindSpeed3pm      3062\n",
       "Humidity9am       2654\n",
       "Humidity3pm       4507\n",
       "Pressure9am      15065\n",
       "Pressure3pm      15028\n",
       "Cloud9am         55888\n",
       "Cloud3pm         59358\n",
       "Temp9am           1767\n",
       "Temp3pm           3609\n",
       "RainToday         3261\n",
       "RainTomorrow      3267\n",
       "dtype: int64"
      ]
     },
     "execution_count": 2,
     "metadata": {},
     "output_type": "execute_result"
    }
   ],
   "source": [
    "RawData = pd.read_csv(\"weatherdata.csv\")\n",
    "RawData.isnull().sum()"
   ]
  },
  {
   "cell_type": "code",
   "execution_count": 3,
   "id": "3ac14736",
   "metadata": {},
   "outputs": [],
   "source": [
    "RawData['Rainfall'].fillna(np.mean(RawData['Rainfall']), inplace = True)\n",
    "RawData.dropna(inplace = True)"
   ]
  },
  {
   "cell_type": "code",
   "execution_count": 4,
   "id": "1baa8119",
   "metadata": {},
   "outputs": [],
   "source": [
    "Data = RawData.sort_values(by='Date')\n",
    "Data.drop(['MinTemp','MaxTemp','Evaporation', 'WindGustDir', \n",
    "           'WindGustSpeed', 'WindDir9am', 'WindDir3pm','WindSpeed9am', \n",
    "           'WindSpeed3pm', 'Pressure9am','Pressure3pm'], axis=1, inplace=True)\n",
    "Data.reset_index(drop =True,inplace = True)\n",
    "Data.index += 1"
   ]
  },
  {
   "cell_type": "code",
   "execution_count": 5,
   "id": "5fa34f61",
   "metadata": {},
   "outputs": [],
   "source": [
    "Data['Humidity'] = Data.apply(lambda row: (row['Humidity9am'] + row['Humidity3pm']) / 2, axis=1)\n",
    "Data['Cloud'] = Data.apply(lambda row: (row['Cloud9am'] + row['Cloud3pm']) / 2, axis=1)\n",
    "Data['Temp'] = Data.apply(lambda row: (row['Temp9am'] + row['Temp3pm']) / 2, axis=1)"
   ]
  },
  {
   "cell_type": "code",
   "execution_count": 6,
   "id": "8055a8f1",
   "metadata": {},
   "outputs": [],
   "source": [
    "Data.drop(['Humidity9am', 'Humidity3pm', 'Cloud9am', \n",
    "           'Cloud3pm', 'Temp9am','Temp3pm'],axis=1,inplace=True)"
   ]
  },
  {
   "cell_type": "code",
   "execution_count": 7,
   "id": "fe0eba88",
   "metadata": {},
   "outputs": [],
   "source": [
    "Data = Data[['Date', 'Location', 'Rainfall', 'Sunshine',\n",
    "             'Humidity', 'Cloud', 'Temp', 'RainToday', 'RainTomorrow']]"
   ]
  },
  {
   "cell_type": "code",
   "execution_count": 8,
   "id": "713df923",
   "metadata": {},
   "outputs": [
    {
     "data": {
      "text/html": [
       "<div>\n",
       "<style scoped>\n",
       "    .dataframe tbody tr th:only-of-type {\n",
       "        vertical-align: middle;\n",
       "    }\n",
       "\n",
       "    .dataframe tbody tr th {\n",
       "        vertical-align: top;\n",
       "    }\n",
       "\n",
       "    .dataframe thead th {\n",
       "        text-align: right;\n",
       "    }\n",
       "</style>\n",
       "<table border=\"1\" class=\"dataframe\">\n",
       "  <thead>\n",
       "    <tr style=\"text-align: right;\">\n",
       "      <th></th>\n",
       "      <th>Date</th>\n",
       "      <th>Location</th>\n",
       "      <th>Rainfall</th>\n",
       "      <th>Sunshine</th>\n",
       "      <th>Humidity</th>\n",
       "      <th>Cloud</th>\n",
       "      <th>Temp</th>\n",
       "      <th>RainToday</th>\n",
       "      <th>RainTomorrow</th>\n",
       "    </tr>\n",
       "  </thead>\n",
       "  <tbody>\n",
       "    <tr>\n",
       "      <th>1</th>\n",
       "      <td>2007-11-01</td>\n",
       "      <td>Canberra</td>\n",
       "      <td>0.0</td>\n",
       "      <td>6.3</td>\n",
       "      <td>48.5</td>\n",
       "      <td>7.0</td>\n",
       "      <td>19.00</td>\n",
       "      <td>0</td>\n",
       "      <td>1</td>\n",
       "    </tr>\n",
       "    <tr>\n",
       "      <th>2</th>\n",
       "      <td>2007-11-02</td>\n",
       "      <td>Canberra</td>\n",
       "      <td>3.6</td>\n",
       "      <td>9.7</td>\n",
       "      <td>58.0</td>\n",
       "      <td>4.0</td>\n",
       "      <td>21.60</td>\n",
       "      <td>1</td>\n",
       "      <td>1</td>\n",
       "    </tr>\n",
       "    <tr>\n",
       "      <th>3</th>\n",
       "      <td>2007-11-03</td>\n",
       "      <td>Canberra</td>\n",
       "      <td>3.6</td>\n",
       "      <td>3.3</td>\n",
       "      <td>75.5</td>\n",
       "      <td>7.5</td>\n",
       "      <td>17.80</td>\n",
       "      <td>1</td>\n",
       "      <td>1</td>\n",
       "    </tr>\n",
       "    <tr>\n",
       "      <th>4</th>\n",
       "      <td>2007-11-04</td>\n",
       "      <td>Canberra</td>\n",
       "      <td>39.8</td>\n",
       "      <td>9.1</td>\n",
       "      <td>59.0</td>\n",
       "      <td>4.5</td>\n",
       "      <td>13.80</td>\n",
       "      <td>1</td>\n",
       "      <td>1</td>\n",
       "    </tr>\n",
       "    <tr>\n",
       "      <th>5</th>\n",
       "      <td>2007-11-05</td>\n",
       "      <td>Canberra</td>\n",
       "      <td>2.8</td>\n",
       "      <td>10.6</td>\n",
       "      <td>58.5</td>\n",
       "      <td>7.0</td>\n",
       "      <td>13.25</td>\n",
       "      <td>1</td>\n",
       "      <td>0</td>\n",
       "    </tr>\n",
       "    <tr>\n",
       "      <th>...</th>\n",
       "      <td>...</td>\n",
       "      <td>...</td>\n",
       "      <td>...</td>\n",
       "      <td>...</td>\n",
       "      <td>...</td>\n",
       "      <td>...</td>\n",
       "      <td>...</td>\n",
       "      <td>...</td>\n",
       "      <td>...</td>\n",
       "    </tr>\n",
       "    <tr>\n",
       "      <th>56416</th>\n",
       "      <td>2017-06-25</td>\n",
       "      <td>Brisbane</td>\n",
       "      <td>0.0</td>\n",
       "      <td>9.8</td>\n",
       "      <td>60.5</td>\n",
       "      <td>4.5</td>\n",
       "      <td>19.25</td>\n",
       "      <td>0</td>\n",
       "      <td>0</td>\n",
       "    </tr>\n",
       "    <tr>\n",
       "      <th>56417</th>\n",
       "      <td>2017-06-25</td>\n",
       "      <td>PerthAirport</td>\n",
       "      <td>0.0</td>\n",
       "      <td>7.9</td>\n",
       "      <td>56.5</td>\n",
       "      <td>2.0</td>\n",
       "      <td>14.10</td>\n",
       "      <td>0</td>\n",
       "      <td>0</td>\n",
       "    </tr>\n",
       "    <tr>\n",
       "      <th>56418</th>\n",
       "      <td>2017-06-25</td>\n",
       "      <td>Melbourne</td>\n",
       "      <td>0.0</td>\n",
       "      <td>3.8</td>\n",
       "      <td>61.5</td>\n",
       "      <td>7.0</td>\n",
       "      <td>11.35</td>\n",
       "      <td>0</td>\n",
       "      <td>1</td>\n",
       "    </tr>\n",
       "    <tr>\n",
       "      <th>56419</th>\n",
       "      <td>2017-06-25</td>\n",
       "      <td>Perth</td>\n",
       "      <td>0.0</td>\n",
       "      <td>7.9</td>\n",
       "      <td>62.0</td>\n",
       "      <td>2.0</td>\n",
       "      <td>13.55</td>\n",
       "      <td>0</td>\n",
       "      <td>0</td>\n",
       "    </tr>\n",
       "    <tr>\n",
       "      <th>56420</th>\n",
       "      <td>2017-06-25</td>\n",
       "      <td>Watsonia</td>\n",
       "      <td>0.0</td>\n",
       "      <td>3.8</td>\n",
       "      <td>68.5</td>\n",
       "      <td>7.0</td>\n",
       "      <td>10.35</td>\n",
       "      <td>0</td>\n",
       "      <td>0</td>\n",
       "    </tr>\n",
       "  </tbody>\n",
       "</table>\n",
       "<p>56420 rows × 9 columns</p>\n",
       "</div>"
      ],
      "text/plain": [
       "             Date      Location  Rainfall  Sunshine  Humidity  Cloud   Temp  \\\n",
       "1      2007-11-01      Canberra       0.0       6.3      48.5    7.0  19.00   \n",
       "2      2007-11-02      Canberra       3.6       9.7      58.0    4.0  21.60   \n",
       "3      2007-11-03      Canberra       3.6       3.3      75.5    7.5  17.80   \n",
       "4      2007-11-04      Canberra      39.8       9.1      59.0    4.5  13.80   \n",
       "5      2007-11-05      Canberra       2.8      10.6      58.5    7.0  13.25   \n",
       "...           ...           ...       ...       ...       ...    ...    ...   \n",
       "56416  2017-06-25      Brisbane       0.0       9.8      60.5    4.5  19.25   \n",
       "56417  2017-06-25  PerthAirport       0.0       7.9      56.5    2.0  14.10   \n",
       "56418  2017-06-25     Melbourne       0.0       3.8      61.5    7.0  11.35   \n",
       "56419  2017-06-25         Perth       0.0       7.9      62.0    2.0  13.55   \n",
       "56420  2017-06-25      Watsonia       0.0       3.8      68.5    7.0  10.35   \n",
       "\n",
       "       RainToday  RainTomorrow  \n",
       "1              0             1  \n",
       "2              1             1  \n",
       "3              1             1  \n",
       "4              1             1  \n",
       "5              1             0  \n",
       "...          ...           ...  \n",
       "56416          0             0  \n",
       "56417          0             0  \n",
       "56418          0             1  \n",
       "56419          0             0  \n",
       "56420          0             0  \n",
       "\n",
       "[56420 rows x 9 columns]"
      ]
     },
     "execution_count": 8,
     "metadata": {},
     "output_type": "execute_result"
    }
   ],
   "source": [
    "Data['RainToday'] =Data['RainToday'].astype('category')\n",
    "Data['RainToday'] =Data['RainToday'].cat.codes\n",
    "Data['RainTomorrow'] =Data['RainTomorrow'].astype('category')\n",
    "Data['RainTomorrow'] =Data['RainTomorrow'].cat.codes\n",
    "Data"
   ]
  },
  {
   "cell_type": "code",
   "execution_count": 9,
   "id": "fc7fb44c",
   "metadata": {},
   "outputs": [
    {
     "data": {
      "image/png": "[encoded data removed]",
      "text/plain": [
       "<Figure size 1200x600 with 2 Axes>"
      ]
     },
     "metadata": {},
     "output_type": "display_data"
    }
   ],
   "source": [
    "# Data for RainToday and RainTomorrow\n",
    "labels = ['Rained', \"Didn't Rain\"]\n",
    "Count0_today = (Data.query('RainToday == 0')).shape[0]\n",
    "Count1_today = (Data.query('RainToday == 1')).shape[0]\n",
    "PCT_today = [Count1_today / (Count0_today + Count1_today), \n",
    "             Count0_today / (Count0_today + Count1_today)]\n",
    "\n",
    "Count0_tomorrow = (Data.query('RainTomorrow == 0')).shape[0]\n",
    "Count1_tomorrow = (Data.query('RainTomorrow == 1')).shape[0]\n",
    "PCT_tomorrow = [Count1_tomorrow /(Count0_tomorrow + Count1_tomorrow), \n",
    "                Count0_tomorrow/(Count0_tomorrow + Count1_tomorrow)]\n",
    "\n",
    "# Create subplots\n",
    "fig, axs = plt.subplots(1, 2, figsize=(12, 6))\n",
    "\n",
    "# Plot for RainToday\n",
    "axs[0].pie(PCT_today, autopct='%1.1f%%', startangle=140)\n",
    "axs[0].set_title('Day 1')\n",
    "axs[0].legend(labels, loc=\"best\")\n",
    "\n",
    "# Plot for RainTomorrow\n",
    "axs[1].pie(PCT_tomorrow, autopct='%1.2f%%', startangle=140)\n",
    "axs[1].set_title('Day 2')\n",
    "axs[1].legend(labels, loc=\"best\")\n",
    "\n",
    "# Equal aspect ratio ensures that pies are drawn as circles\n",
    "axs[0].axis('equal')\n",
    "axs[1].axis('equal')\n",
    "\n",
    "# Adjust layout\n",
    "plt.tight_layout()\n",
    "\n",
    "# Show plot\n",
    "plt.show()\n"
   ]
  },
  {
   "cell_type": "markdown",
   "id": "a7bae856",
   "metadata": {},
   "source": [
    "#### "
   ]
  },
  {
   "cell_type": "markdown",
   "id": "5f3293af",
   "metadata": {},
   "source": [
    "#### Building the Model"
   ]
  },
  {
   "cell_type": "code",
   "execution_count": 10,
   "id": "811e4840",
   "metadata": {},
   "outputs": [],
   "source": [
    "#Defining the X and Y variables\n",
    "X = Data.drop(columns = ['RainTomorrow','Date','Location'])\n",
    "Y = Data['RainTomorrow']"
   ]
  },
  {
   "cell_type": "code",
   "execution_count": 11,
   "id": "40852aba",
   "metadata": {},
   "outputs": [
    {
     "data": {
      "text/html": [
       "<div>\n",
       "<style scoped>\n",
       "    .dataframe tbody tr th:only-of-type {\n",
       "        vertical-align: middle;\n",
       "    }\n",
       "\n",
       "    .dataframe tbody tr th {\n",
       "        vertical-align: top;\n",
       "    }\n",
       "\n",
       "    .dataframe thead th {\n",
       "        text-align: right;\n",
       "    }\n",
       "</style>\n",
       "<table border=\"1\" class=\"dataframe\">\n",
       "  <thead>\n",
       "    <tr style=\"text-align: right;\">\n",
       "      <th></th>\n",
       "      <th>Rainfall</th>\n",
       "      <th>Sunshine</th>\n",
       "      <th>Humidity</th>\n",
       "      <th>Cloud</th>\n",
       "      <th>Temp</th>\n",
       "      <th>RainToday</th>\n",
       "    </tr>\n",
       "  </thead>\n",
       "  <tbody>\n",
       "    <tr>\n",
       "      <th>1</th>\n",
       "      <td>0.0</td>\n",
       "      <td>6.3</td>\n",
       "      <td>48.5</td>\n",
       "      <td>7.0</td>\n",
       "      <td>19.00</td>\n",
       "      <td>0</td>\n",
       "    </tr>\n",
       "    <tr>\n",
       "      <th>2</th>\n",
       "      <td>3.6</td>\n",
       "      <td>9.7</td>\n",
       "      <td>58.0</td>\n",
       "      <td>4.0</td>\n",
       "      <td>21.60</td>\n",
       "      <td>1</td>\n",
       "    </tr>\n",
       "    <tr>\n",
       "      <th>3</th>\n",
       "      <td>3.6</td>\n",
       "      <td>3.3</td>\n",
       "      <td>75.5</td>\n",
       "      <td>7.5</td>\n",
       "      <td>17.80</td>\n",
       "      <td>1</td>\n",
       "    </tr>\n",
       "    <tr>\n",
       "      <th>4</th>\n",
       "      <td>39.8</td>\n",
       "      <td>9.1</td>\n",
       "      <td>59.0</td>\n",
       "      <td>4.5</td>\n",
       "      <td>13.80</td>\n",
       "      <td>1</td>\n",
       "    </tr>\n",
       "    <tr>\n",
       "      <th>5</th>\n",
       "      <td>2.8</td>\n",
       "      <td>10.6</td>\n",
       "      <td>58.5</td>\n",
       "      <td>7.0</td>\n",
       "      <td>13.25</td>\n",
       "      <td>1</td>\n",
       "    </tr>\n",
       "    <tr>\n",
       "      <th>...</th>\n",
       "      <td>...</td>\n",
       "      <td>...</td>\n",
       "      <td>...</td>\n",
       "      <td>...</td>\n",
       "      <td>...</td>\n",
       "      <td>...</td>\n",
       "    </tr>\n",
       "    <tr>\n",
       "      <th>56416</th>\n",
       "      <td>0.0</td>\n",
       "      <td>9.8</td>\n",
       "      <td>60.5</td>\n",
       "      <td>4.5</td>\n",
       "      <td>19.25</td>\n",
       "      <td>0</td>\n",
       "    </tr>\n",
       "    <tr>\n",
       "      <th>56417</th>\n",
       "      <td>0.0</td>\n",
       "      <td>7.9</td>\n",
       "      <td>56.5</td>\n",
       "      <td>2.0</td>\n",
       "      <td>14.10</td>\n",
       "      <td>0</td>\n",
       "    </tr>\n",
       "    <tr>\n",
       "      <th>56418</th>\n",
       "      <td>0.0</td>\n",
       "      <td>3.8</td>\n",
       "      <td>61.5</td>\n",
       "      <td>7.0</td>\n",
       "      <td>11.35</td>\n",
       "      <td>0</td>\n",
       "    </tr>\n",
       "    <tr>\n",
       "      <th>56419</th>\n",
       "      <td>0.0</td>\n",
       "      <td>7.9</td>\n",
       "      <td>62.0</td>\n",
       "      <td>2.0</td>\n",
       "      <td>13.55</td>\n",
       "      <td>0</td>\n",
       "    </tr>\n",
       "    <tr>\n",
       "      <th>56420</th>\n",
       "      <td>0.0</td>\n",
       "      <td>3.8</td>\n",
       "      <td>68.5</td>\n",
       "      <td>7.0</td>\n",
       "      <td>10.35</td>\n",
       "      <td>0</td>\n",
       "    </tr>\n",
       "  </tbody>\n",
       "</table>\n",
       "<p>56420 rows × 6 columns</p>\n",
       "</div>"
      ],
      "text/plain": [
       "       Rainfall  Sunshine  Humidity  Cloud   Temp  RainToday\n",
       "1           0.0       6.3      48.5    7.0  19.00          0\n",
       "2           3.6       9.7      58.0    4.0  21.60          1\n",
       "3           3.6       3.3      75.5    7.5  17.80          1\n",
       "4          39.8       9.1      59.0    4.5  13.80          1\n",
       "5           2.8      10.6      58.5    7.0  13.25          1\n",
       "...         ...       ...       ...    ...    ...        ...\n",
       "56416       0.0       9.8      60.5    4.5  19.25          0\n",
       "56417       0.0       7.9      56.5    2.0  14.10          0\n",
       "56418       0.0       3.8      61.5    7.0  11.35          0\n",
       "56419       0.0       7.9      62.0    2.0  13.55          0\n",
       "56420       0.0       3.8      68.5    7.0  10.35          0\n",
       "\n",
       "[56420 rows x 6 columns]"
      ]
     },
     "execution_count": 11,
     "metadata": {},
     "output_type": "execute_result"
    }
   ],
   "source": [
    "X"
   ]
  },
  {
   "cell_type": "code",
   "execution_count": 12,
   "id": "4c8d6c01",
   "metadata": {},
   "outputs": [
    {
     "data": {
      "text/plain": [
       "1        1\n",
       "2        1\n",
       "3        1\n",
       "4        1\n",
       "5        0\n",
       "        ..\n",
       "56416    0\n",
       "56417    0\n",
       "56418    1\n",
       "56419    0\n",
       "56420    0\n",
       "Name: RainTomorrow, Length: 56420, dtype: int8"
      ]
     },
     "execution_count": 12,
     "metadata": {},
     "output_type": "execute_result"
    }
   ],
   "source": [
    "Y"
   ]
  },
  {
   "cell_type": "code",
   "execution_count": 13,
   "id": "0603a7ca",
   "metadata": {},
   "outputs": [],
   "source": [
    "XTrain,XTest,YTrain,YTest = train_test_split(X,Y, \n",
    "                                             test_size = 0.20,\n",
    "                                             random_state = 69)"
   ]
  },
  {
   "cell_type": "code",
   "execution_count": 14,
   "id": "4dfc2af4",
   "metadata": {},
   "outputs": [
    {
     "data": {
      "text/html": [
       "<div>\n",
       "<style scoped>\n",
       "    .dataframe tbody tr th:only-of-type {\n",
       "        vertical-align: middle;\n",
       "    }\n",
       "\n",
       "    .dataframe tbody tr th {\n",
       "        vertical-align: top;\n",
       "    }\n",
       "\n",
       "    .dataframe thead th {\n",
       "        text-align: right;\n",
       "    }\n",
       "</style>\n",
       "<table border=\"1\" class=\"dataframe\">\n",
       "  <thead>\n",
       "    <tr style=\"text-align: right;\">\n",
       "      <th></th>\n",
       "      <th>Rainfall</th>\n",
       "      <th>Sunshine</th>\n",
       "      <th>Humidity</th>\n",
       "      <th>Cloud</th>\n",
       "      <th>Temp</th>\n",
       "      <th>RainToday</th>\n",
       "    </tr>\n",
       "  </thead>\n",
       "  <tbody>\n",
       "    <tr>\n",
       "      <th>496</th>\n",
       "      <td>0.0</td>\n",
       "      <td>5.1</td>\n",
       "      <td>43.0</td>\n",
       "      <td>5.5</td>\n",
       "      <td>14.30</td>\n",
       "      <td>0</td>\n",
       "    </tr>\n",
       "    <tr>\n",
       "      <th>47741</th>\n",
       "      <td>0.0</td>\n",
       "      <td>9.9</td>\n",
       "      <td>32.5</td>\n",
       "      <td>0.5</td>\n",
       "      <td>22.55</td>\n",
       "      <td>0</td>\n",
       "    </tr>\n",
       "    <tr>\n",
       "      <th>44763</th>\n",
       "      <td>0.0</td>\n",
       "      <td>7.2</td>\n",
       "      <td>63.0</td>\n",
       "      <td>5.0</td>\n",
       "      <td>25.80</td>\n",
       "      <td>0</td>\n",
       "    </tr>\n",
       "    <tr>\n",
       "      <th>35858</th>\n",
       "      <td>6.4</td>\n",
       "      <td>9.5</td>\n",
       "      <td>59.0</td>\n",
       "      <td>5.0</td>\n",
       "      <td>11.20</td>\n",
       "      <td>1</td>\n",
       "    </tr>\n",
       "    <tr>\n",
       "      <th>20165</th>\n",
       "      <td>36.8</td>\n",
       "      <td>2.2</td>\n",
       "      <td>79.0</td>\n",
       "      <td>7.0</td>\n",
       "      <td>17.70</td>\n",
       "      <td>1</td>\n",
       "    </tr>\n",
       "    <tr>\n",
       "      <th>...</th>\n",
       "      <td>...</td>\n",
       "      <td>...</td>\n",
       "      <td>...</td>\n",
       "      <td>...</td>\n",
       "      <td>...</td>\n",
       "      <td>...</td>\n",
       "    </tr>\n",
       "    <tr>\n",
       "      <th>5740</th>\n",
       "      <td>0.0</td>\n",
       "      <td>10.3</td>\n",
       "      <td>27.0</td>\n",
       "      <td>0.5</td>\n",
       "      <td>22.10</td>\n",
       "      <td>0</td>\n",
       "    </tr>\n",
       "    <tr>\n",
       "      <th>30651</th>\n",
       "      <td>0.0</td>\n",
       "      <td>5.1</td>\n",
       "      <td>75.0</td>\n",
       "      <td>6.5</td>\n",
       "      <td>24.70</td>\n",
       "      <td>0</td>\n",
       "    </tr>\n",
       "    <tr>\n",
       "      <th>46868</th>\n",
       "      <td>0.0</td>\n",
       "      <td>9.2</td>\n",
       "      <td>49.5</td>\n",
       "      <td>0.5</td>\n",
       "      <td>16.00</td>\n",
       "      <td>0</td>\n",
       "    </tr>\n",
       "    <tr>\n",
       "      <th>50294</th>\n",
       "      <td>0.0</td>\n",
       "      <td>12.3</td>\n",
       "      <td>18.5</td>\n",
       "      <td>1.5</td>\n",
       "      <td>32.70</td>\n",
       "      <td>0</td>\n",
       "    </tr>\n",
       "    <tr>\n",
       "      <th>50394</th>\n",
       "      <td>0.0</td>\n",
       "      <td>10.8</td>\n",
       "      <td>64.5</td>\n",
       "      <td>3.0</td>\n",
       "      <td>30.10</td>\n",
       "      <td>0</td>\n",
       "    </tr>\n",
       "  </tbody>\n",
       "</table>\n",
       "<p>11284 rows × 6 columns</p>\n",
       "</div>"
      ],
      "text/plain": [
       "       Rainfall  Sunshine  Humidity  Cloud   Temp  RainToday\n",
       "496         0.0       5.1      43.0    5.5  14.30          0\n",
       "47741       0.0       9.9      32.5    0.5  22.55          0\n",
       "44763       0.0       7.2      63.0    5.0  25.80          0\n",
       "35858       6.4       9.5      59.0    5.0  11.20          1\n",
       "20165      36.8       2.2      79.0    7.0  17.70          1\n",
       "...         ...       ...       ...    ...    ...        ...\n",
       "5740        0.0      10.3      27.0    0.5  22.10          0\n",
       "30651       0.0       5.1      75.0    6.5  24.70          0\n",
       "46868       0.0       9.2      49.5    0.5  16.00          0\n",
       "50294       0.0      12.3      18.5    1.5  32.70          0\n",
       "50394       0.0      10.8      64.5    3.0  30.10          0\n",
       "\n",
       "[11284 rows x 6 columns]"
      ]
     },
     "execution_count": 14,
     "metadata": {},
     "output_type": "execute_result"
    }
   ],
   "source": [
    "XTest"
   ]
  },
  {
   "cell_type": "code",
   "execution_count": 15,
   "id": "fbf3e022",
   "metadata": {},
   "outputs": [
    {
     "data": {
      "text/plain": [
       "496      0\n",
       "47741    0\n",
       "44763    0\n",
       "35858    0\n",
       "20165    1\n",
       "        ..\n",
       "5740     0\n",
       "30651    0\n",
       "46868    0\n",
       "50294    0\n",
       "50394    1\n",
       "Name: RainTomorrow, Length: 11284, dtype: int8"
      ]
     },
     "execution_count": 15,
     "metadata": {},
     "output_type": "execute_result"
    }
   ],
   "source": [
    "YTest"
   ]
  },
  {
   "cell_type": "code",
   "execution_count": 16,
   "id": "dc8ce86d",
   "metadata": {},
   "outputs": [
    {
     "data": {
      "text/html": [
       "<div>\n",
       "<style scoped>\n",
       "    .dataframe tbody tr th:only-of-type {\n",
       "        vertical-align: middle;\n",
       "    }\n",
       "\n",
       "    .dataframe tbody tr th {\n",
       "        vertical-align: top;\n",
       "    }\n",
       "\n",
       "    .dataframe thead th {\n",
       "        text-align: right;\n",
       "    }\n",
       "</style>\n",
       "<table border=\"1\" class=\"dataframe\">\n",
       "  <thead>\n",
       "    <tr style=\"text-align: right;\">\n",
       "      <th></th>\n",
       "      <th>Rainfall</th>\n",
       "      <th>Sunshine</th>\n",
       "      <th>Humidity</th>\n",
       "      <th>Cloud</th>\n",
       "      <th>Temp</th>\n",
       "      <th>RainToday</th>\n",
       "    </tr>\n",
       "  </thead>\n",
       "  <tbody>\n",
       "    <tr>\n",
       "      <th>36848</th>\n",
       "      <td>0.0</td>\n",
       "      <td>13.7</td>\n",
       "      <td>32.0</td>\n",
       "      <td>2.0</td>\n",
       "      <td>25.65</td>\n",
       "      <td>0</td>\n",
       "    </tr>\n",
       "    <tr>\n",
       "      <th>9511</th>\n",
       "      <td>0.0</td>\n",
       "      <td>3.2</td>\n",
       "      <td>59.0</td>\n",
       "      <td>8.0</td>\n",
       "      <td>17.90</td>\n",
       "      <td>0</td>\n",
       "    </tr>\n",
       "    <tr>\n",
       "      <th>22706</th>\n",
       "      <td>0.0</td>\n",
       "      <td>11.1</td>\n",
       "      <td>68.0</td>\n",
       "      <td>4.0</td>\n",
       "      <td>19.25</td>\n",
       "      <td>0</td>\n",
       "    </tr>\n",
       "    <tr>\n",
       "      <th>31266</th>\n",
       "      <td>0.0</td>\n",
       "      <td>13.1</td>\n",
       "      <td>37.5</td>\n",
       "      <td>0.0</td>\n",
       "      <td>20.25</td>\n",
       "      <td>0</td>\n",
       "    </tr>\n",
       "    <tr>\n",
       "      <th>2632</th>\n",
       "      <td>0.0</td>\n",
       "      <td>11.0</td>\n",
       "      <td>38.0</td>\n",
       "      <td>3.0</td>\n",
       "      <td>18.55</td>\n",
       "      <td>0</td>\n",
       "    </tr>\n",
       "    <tr>\n",
       "      <th>...</th>\n",
       "      <td>...</td>\n",
       "      <td>...</td>\n",
       "      <td>...</td>\n",
       "      <td>...</td>\n",
       "      <td>...</td>\n",
       "      <td>...</td>\n",
       "    </tr>\n",
       "    <tr>\n",
       "      <th>11826</th>\n",
       "      <td>1.0</td>\n",
       "      <td>9.3</td>\n",
       "      <td>49.5</td>\n",
       "      <td>1.0</td>\n",
       "      <td>19.90</td>\n",
       "      <td>0</td>\n",
       "    </tr>\n",
       "    <tr>\n",
       "      <th>47509</th>\n",
       "      <td>0.0</td>\n",
       "      <td>7.8</td>\n",
       "      <td>49.0</td>\n",
       "      <td>5.0</td>\n",
       "      <td>19.25</td>\n",
       "      <td>0</td>\n",
       "    </tr>\n",
       "    <tr>\n",
       "      <th>25016</th>\n",
       "      <td>0.0</td>\n",
       "      <td>12.0</td>\n",
       "      <td>59.5</td>\n",
       "      <td>1.5</td>\n",
       "      <td>26.80</td>\n",
       "      <td>0</td>\n",
       "    </tr>\n",
       "    <tr>\n",
       "      <th>9819</th>\n",
       "      <td>0.0</td>\n",
       "      <td>13.2</td>\n",
       "      <td>38.5</td>\n",
       "      <td>1.0</td>\n",
       "      <td>26.70</td>\n",
       "      <td>0</td>\n",
       "    </tr>\n",
       "    <tr>\n",
       "      <th>4042</th>\n",
       "      <td>0.0</td>\n",
       "      <td>9.2</td>\n",
       "      <td>29.5</td>\n",
       "      <td>1.5</td>\n",
       "      <td>18.90</td>\n",
       "      <td>0</td>\n",
       "    </tr>\n",
       "  </tbody>\n",
       "</table>\n",
       "<p>45136 rows × 6 columns</p>\n",
       "</div>"
      ],
      "text/plain": [
       "       Rainfall  Sunshine  Humidity  Cloud   Temp  RainToday\n",
       "36848       0.0      13.7      32.0    2.0  25.65          0\n",
       "9511        0.0       3.2      59.0    8.0  17.90          0\n",
       "22706       0.0      11.1      68.0    4.0  19.25          0\n",
       "31266       0.0      13.1      37.5    0.0  20.25          0\n",
       "2632        0.0      11.0      38.0    3.0  18.55          0\n",
       "...         ...       ...       ...    ...    ...        ...\n",
       "11826       1.0       9.3      49.5    1.0  19.90          0\n",
       "47509       0.0       7.8      49.0    5.0  19.25          0\n",
       "25016       0.0      12.0      59.5    1.5  26.80          0\n",
       "9819        0.0      13.2      38.5    1.0  26.70          0\n",
       "4042        0.0       9.2      29.5    1.5  18.90          0\n",
       "\n",
       "[45136 rows x 6 columns]"
      ]
     },
     "execution_count": 16,
     "metadata": {},
     "output_type": "execute_result"
    }
   ],
   "source": [
    "XTrain"
   ]
  },
  {
   "cell_type": "code",
   "execution_count": 17,
   "id": "1037c8f0",
   "metadata": {},
   "outputs": [
    {
     "data": {
      "text/plain": [
       "36848    0\n",
       "9511     0\n",
       "22706    0\n",
       "31266    0\n",
       "2632     0\n",
       "        ..\n",
       "11826    0\n",
       "47509    0\n",
       "25016    0\n",
       "9819     0\n",
       "4042     0\n",
       "Name: RainTomorrow, Length: 45136, dtype: int8"
      ]
     },
     "execution_count": 17,
     "metadata": {},
     "output_type": "execute_result"
    }
   ],
   "source": [
    "YTrain"
   ]
  },
  {
   "cell_type": "code",
   "execution_count": 18,
   "id": "cb65f783",
   "metadata": {},
   "outputs": [],
   "source": [
    "sclr = StandardScaler()\n",
    "Scaled_XTrain = sclr.fit_transform(XTrain)\n",
    "Scaled_XTest = sclr.transform(XTest)"
   ]
  },
  {
   "cell_type": "code",
   "execution_count": 19,
   "id": "03db97e3",
   "metadata": {},
   "outputs": [
    {
     "data": {
      "text/plain": [
       "array([[-0.30178419,  1.5861052 , -1.44748703, -0.93154165,  0.79943525,\n",
       "        -0.5328359 ],\n",
       "       [-0.30178419, -1.20906654,  0.07238417,  1.51914741, -0.39651555,\n",
       "        -0.5328359 ],\n",
       "       [-0.30178419,  0.89396744,  0.57900791, -0.11464529, -0.18818864,\n",
       "        -0.5328359 ],\n",
       "       ...,\n",
       "       [-0.30178419,  1.13355359,  0.10052994, -1.13576573,  0.97689892,\n",
       "        -0.5328359 ],\n",
       "       [-0.30178419,  1.45300178, -1.08159211, -1.33998982,  0.96146729,\n",
       "        -0.5328359 ],\n",
       "       [-0.30178419,  0.38817446, -1.58821585, -1.13576573, -0.24219932,\n",
       "        -0.5328359 ]])"
      ]
     },
     "execution_count": 19,
     "metadata": {},
     "output_type": "execute_result"
    }
   ],
   "source": [
    "Scaled_XTrain"
   ]
  },
  {
   "cell_type": "code",
   "execution_count": 20,
   "id": "1dffdf8a",
   "metadata": {},
   "outputs": [
    {
     "data": {
      "text/plain": [
       "array([[-0.30178419, -0.70327356, -0.82828024,  0.49802697, -0.95205399,\n",
       "        -0.5328359 ],\n",
       "       [-0.30178419,  0.57451924, -1.41934127, -1.54421391,  0.32105493,\n",
       "        -0.5328359 ],\n",
       "       [-0.30178419, -0.14423921,  0.29755028,  0.29380288,  0.82258269,\n",
       "        -0.5328359 ],\n",
       "       ...,\n",
       "       [-0.30178419,  0.38817446, -0.46238533, -1.54421391, -0.6897164 ,\n",
       "        -0.5328359 ],\n",
       "       [-0.30178419,  1.21341564, -2.20742263, -1.13576573,  1.88736469,\n",
       "        -0.5328359 ],\n",
       "       [-0.30178419,  0.81410539,  0.38198757, -0.52309347,  1.48614249,\n",
       "        -0.5328359 ]])"
      ]
     },
     "execution_count": 20,
     "metadata": {},
     "output_type": "execute_result"
    }
   ],
   "source": [
    "Scaled_XTest"
   ]
  },
  {
   "cell_type": "code",
   "execution_count": 21,
   "id": "a7141d85",
   "metadata": {},
   "outputs": [],
   "source": [
    "#finding the Coefficients and Intercept\n",
    "log_reg = LogisticRegression(random_state=69,\n",
    "                            C=0.1,\n",
    "                            fit_intercept=True).fit(Scaled_XTrain,\n",
    "                                                  YTrain)"
   ]
  },
  {
   "cell_type": "code",
   "execution_count": 22,
   "id": "d7c75d6f",
   "metadata": {},
   "outputs": [],
   "source": [
    "YPred = log_reg.predict(Scaled_XTest)"
   ]
  },
  {
   "cell_type": "markdown",
   "id": "85a97baa",
   "metadata": {},
   "source": [
    "#### Bias"
   ]
  },
  {
   "cell_type": "code",
   "execution_count": 23,
   "id": "7f3d3464",
   "metadata": {
    "scrolled": true
   },
   "outputs": [
    {
     "data": {
      "text/plain": [
       "-1.758703754652508"
      ]
     },
     "execution_count": 23,
     "metadata": {},
     "output_type": "execute_result"
    }
   ],
   "source": [
    "b = log_reg.intercept_[0]\n",
    "b"
   ]
  },
  {
   "cell_type": "markdown",
   "id": "5564a0af",
   "metadata": {},
   "source": [
    "#### Weights"
   ]
  },
  {
   "cell_type": "code",
   "execution_count": 24,
   "id": "af947b3f",
   "metadata": {},
   "outputs": [
    {
     "data": {
      "text/html": [
       "<div>\n",
       "<style scoped>\n",
       "    .dataframe tbody tr th:only-of-type {\n",
       "        vertical-align: middle;\n",
       "    }\n",
       "\n",
       "    .dataframe tbody tr th {\n",
       "        vertical-align: top;\n",
       "    }\n",
       "\n",
       "    .dataframe thead th {\n",
       "        text-align: right;\n",
       "    }\n",
       "</style>\n",
       "<table border=\"1\" class=\"dataframe\">\n",
       "  <thead>\n",
       "    <tr style=\"text-align: right;\">\n",
       "      <th></th>\n",
       "      <th>Coefficients</th>\n",
       "    </tr>\n",
       "  </thead>\n",
       "  <tbody>\n",
       "    <tr>\n",
       "      <th>Rainfall</th>\n",
       "      <td>0.100030</td>\n",
       "    </tr>\n",
       "    <tr>\n",
       "      <th>Sunshine</th>\n",
       "      <td>-0.655020</td>\n",
       "    </tr>\n",
       "    <tr>\n",
       "      <th>Humidity</th>\n",
       "      <td>0.661414</td>\n",
       "    </tr>\n",
       "    <tr>\n",
       "      <th>Cloud</th>\n",
       "      <td>0.325810</td>\n",
       "    </tr>\n",
       "    <tr>\n",
       "      <th>Temp</th>\n",
       "      <td>0.303134</td>\n",
       "    </tr>\n",
       "    <tr>\n",
       "      <th>RainToday</th>\n",
       "      <td>0.217278</td>\n",
       "    </tr>\n",
       "  </tbody>\n",
       "</table>\n",
       "</div>"
      ],
      "text/plain": [
       "           Coefficients\n",
       "Rainfall       0.100030\n",
       "Sunshine      -0.655020\n",
       "Humidity       0.661414\n",
       "Cloud          0.325810\n",
       "Temp           0.303134\n",
       "RainToday      0.217278"
      ]
     },
     "execution_count": 24,
     "metadata": {},
     "output_type": "execute_result"
    }
   ],
   "source": [
    "w = pd.DataFrame({\"Coefficients\": log_reg.coef_[0]}, \n",
    "                       index=['Rainfall', 'Sunshine', 'Humidity', \n",
    "                              'Cloud', 'Temp', 'RainToday'])\n",
    "w"
   ]
  },
  {
   "cell_type": "markdown",
   "id": "794e1d34",
   "metadata": {},
   "source": [
    "#### "
   ]
  },
  {
   "cell_type": "markdown",
   "id": "9c0cf424",
   "metadata": {},
   "source": [
    "#### Confusion Matrix"
   ]
  },
  {
   "cell_type": "code",
   "execution_count": 25,
   "id": "dd517e1a",
   "metadata": {},
   "outputs": [
    {
     "data": {
      "image/png": "[encoded data removed]",
      "text/plain": [
       "<Figure size 800x600 with 1 Axes>"
      ]
     },
     "metadata": {},
     "output_type": "display_data"
    }
   ],
   "source": [
    "#Generate confusion matrix\n",
    "conf_matrix = confusion_matrix(YTest, YPred)\n",
    "\n",
    "# Plot confusion matrix\n",
    "plt.figure(figsize=(8, 6))\n",
    "sns.set(font_scale=1.4)  # for label size\n",
    "sns.heatmap(conf_matrix, annot=True, annot_kws={\"size\": 16}, \n",
    "            fmt='g', cmap='Blues', cbar=False,\n",
    "            xticklabels=['Negative', 'Positive'],  # Set column labels\n",
    "            yticklabels=['Negative', 'Positive'])  # Set row labels\n",
    "plt.xlabel('Predicted Values')\n",
    "plt.ylabel('Actual Values ')\n",
    "plt.title('Confusion Matrix')\n",
    "plt.show()"
   ]
  },
  {
   "cell_type": "markdown",
   "id": "c10b24bc",
   "metadata": {},
   "source": [
    "#### "
   ]
  },
  {
   "cell_type": "markdown",
   "id": "c206c3e4",
   "metadata": {},
   "source": [
    "#### Accuracy"
   ]
  },
  {
   "cell_type": "code",
   "execution_count": 26,
   "id": "57145dcd",
   "metadata": {},
   "outputs": [],
   "source": [
    "accuracy_Test = log_reg.score(Scaled_XTest, YTest)\n",
    "accuracy_Train = log_reg.score(Scaled_XTrain, YTrain)\n",
    "labels = ['With Test Data', 'With Training Data']\n",
    "accuracies = [accuracy_Test * 100,accuracy_Train * 100]"
   ]
  },
  {
   "cell_type": "code",
   "execution_count": 27,
   "id": "f895eaa5",
   "metadata": {},
   "outputs": [
    {
     "data": {
      "image/png": "[encoded data removed]",
      "text/plain": [
       "<Figure size 800x500 with 1 Axes>"
      ]
     },
     "metadata": {},
     "output_type": "display_data"
    }
   ],
   "source": [
    "# Create horizontal bar graph\n",
    "plt.figure(figsize=(8, 5))\n",
    "plt.barh(labels, accuracies, color=['skyblue', 'salmon'])\n",
    "plt.xlabel('Accuracy (%)')  # Adjusted xlabel for clarity\n",
    "plt.title('Model Accuracy')\n",
    "plt.xlim(0, 100)\n",
    "plt.grid(axis='x', linestyle='--', alpha=0.5)  # Adjusted alpha value for grid visibility\n",
    "\n",
    "# Display the values on the bars\n",
    "for i, acc in enumerate(accuracies):\n",
    "    plt.text(acc, i, f'{acc:.4f}%', va='center')\n",
    "\n",
    "plt.xticks(ticks=[0, 25, 50, 75, 100], labels=['0', '25', '50', '75', '100']) \n",
    "plt.show()\n"
   ]
  },
  {
   "cell_type": "markdown",
   "id": "564530db",
   "metadata": {},
   "source": [
    "#### "
   ]
  },
  {
   "cell_type": "markdown",
   "id": "7850861b",
   "metadata": {},
   "source": [
    "#### Model (Graphical Visualisation)"
   ]
  },
  {
   "cell_type": "code",
   "execution_count": 28,
   "id": "07aad699",
   "metadata": {},
   "outputs": [
    {
     "data": {
      "image/png": "[encoded data removed]",
      "text/plain": [
       "<Figure size 1500x1000 with 6 Axes>"
      ]
     },
     "metadata": {},
     "output_type": "display_data"
    }
   ],
   "source": [
    "# List of independent variables\n",
    "Ind_Variables = ['Rainfall', 'Sunshine', 'Humidity', 'Cloud', 'Temp', 'RainToday']\n",
    "\n",
    "# Function to convert input data to series\n",
    "def get_Series(DF):\n",
    "    series_list = []\n",
    "    for i in range(DF.shape[1]):\n",
    "        series_data = DF[:, i]\n",
    "        series = pd.DataFrame(series_data, index=np.arange(1, len(series_data)+1))\n",
    "        series_list.append(series)\n",
    "    return series_list\n",
    "\n",
    "# Calling the function\n",
    "TrainVars = get_Series(Scaled_XTrain)\n",
    "Test_Vars = get_Series(Scaled_XTest)\n",
    "\n",
    "# Create subplots\n",
    "fig, axes = plt.subplots(2, 3, figsize=(15, 10))\n",
    "\n",
    "# Flatten the axes array for easier iteration\n",
    "axes = axes.flatten()\n",
    "\n",
    "# Plot each independent variable against the sigmoid output\n",
    "for i in range(len(TrainVars)):\n",
    "    # Fit logistic regression model\n",
    "    model = LogisticRegression(random_state=69, C=0.1, fit_intercept=True).fit(TrainVars[i], YTrain)\n",
    "    \n",
    "    # Predict using the fitted model\n",
    "    Y_Var = model.predict(Test_Vars[i])\n",
    "    \n",
    "    # Plot scatter plot\n",
    "    ax = axes[i]\n",
    "    ax.scatter(Test_Vars[i].values.flatten(), Y_Var, alpha=0.75)\n",
    "    ax.set_xlabel(f'{Ind_Variables[i]}')\n",
    "    ax.set_ylabel('Rain Predicted (Sigmoid O/P)')\n",
    "    ax.grid(True)\n",
    "    \n",
    "#Title\n",
    "plt.suptitle('Scatter Plots for Independent Sigmoid O/P', fontsize=16)\n",
    "\n",
    "# Adjust layout\n",
    "plt.tight_layout()\n",
    "plt.show()"
   ]
  },
  {
   "cell_type": "markdown",
   "id": "b70308bc",
   "metadata": {},
   "source": [
    "#### "
   ]
  },
  {
   "cell_type": "markdown",
   "id": "0bc9a3d3",
   "metadata": {},
   "source": [
    "#### "
   ]
  },
  {
   "cell_type": "markdown",
   "id": "b8833bdb",
   "metadata": {},
   "source": [
    "#### "
   ]
  },
  {
   "cell_type": "markdown",
   "id": "89109a26",
   "metadata": {},
   "source": [
    "<h3 style=\"text-align:center;\">Model Summary</h3>"
   ]
  },
  {
   "cell_type": "markdown",
   "id": "e2df2db3",
   "metadata": {},
   "source": [
    "#### Interpreting the Bias and the Coefficients \n",
    "\n",
    "- **Bias**: -1.7587\n",
    "  - *Intercept of the model.*\n",
    "  - *A negative bias suggests that, without any input variables, the model leans towards predicting no rain.*\n",
    "\n",
    "- **Rainfall**: 0.100030\n",
    "  - *A positive weight, indicating that higher rainfall today increases the likelihood of rain tomorrow.*\n",
    "\n",
    "- **Sunshine**: -0.655020\n",
    "  - *A negative weight, suggesting that more sunshine today decreases the likelihood of rain tomorrow.*\n",
    "\n",
    "- **Humidity**: 0.66414\n",
    "  - *A positive weight, showing that higher humidity today increases the likelihood of rain tomorrow.*\n",
    "\n",
    "- **Cloud**: 0.325810\n",
    "  - *A positive weight, meaning that more cloud cover today increases the likelihood of rain tomorrow.*\n",
    "\n",
    "- **Temp**: 0.303134\n",
    "  - *A positive weight, indicating that higher temperatures today are associated with a higher likelihood of rain tomorrow.*\n",
    "\n",
    "- **RainToday**: 0.217278\n",
    "  - *A positive weight, implying that if it rained today, it increases the likelihood of rain tomorrow.*\n",
    "\n",
    "The weights reflect the strength and direction of the relationship between each predictor variable and the target variable (rain tomorrow). The model predicts rain when the combined weighted sum of these variables, plus the bias, is greater than zero.\n"
   ]
  }
 ],
 "metadata": {
  "kernelspec": {
   "display_name": "Python 3 (ipykernel)",
   "language": "python",
   "name": "python3"
  },
  "language_info": {
   "codemirror_mode": {
    "name": "ipython",
    "version": 3
   },
   "file_extension": ".py",
   "mimetype": "text/x-python",
   "name": "python",
   "nbconvert_exporter": "python",
   "pygments_lexer": "ipython3",
   "version": "3.11.4"
  }
 },
 "nbformat": 4,
 "nbformat_minor": 5
}
